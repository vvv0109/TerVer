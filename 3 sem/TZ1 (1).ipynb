{
  "cells": [
    {
      "cell_type": "code",
      "execution_count": null,
      "metadata": {
        "trusted": true
      },
      "outputs": [
        {
          "ename": "",
          "evalue": "",
          "output_type": "error",
          "traceback": [
            "\u001b[1;31mДля выполнения ячеек с \"c:\\Users\\Вадим Максютов\\AppData\\Local\\Microsoft\\WindowsApps\\python3.11.exe\" требуется пакет ipykernel.\n",
            "\u001b[1;31mRun the following command to install 'ipykernel' into the Python environment. \n",
            "\u001b[1;31mCommand: '\"c:/Users/Вадим Максютов/AppData/Local/Microsoft/WindowsApps/python3.11.exe\" -m pip install ipykernel -U --user --force-reinstall'"
          ]
        }
      ],
      "source": [
        "#Даны значения зарплат из выборки выпускников: 100, 80, 75, 77, 89, 33, 45, 25, 65, 17, 30, 24, 57, 55, 70, 75, 65, 84, 90, 150. Посчитать \n",
        "#(желательно без использования статистических методов наподобие std, var, mean) \n",
        "#среднее арифметическое, среднее квадратичное отклонение, смещенную и несмещенную оценки дисперсий для данной выборки."
      ]
    },
    {
      "cell_type": "code",
      "execution_count": null,
      "metadata": {
        "trusted": true
      },
      "outputs": [
        {
          "ename": "",
          "evalue": "",
          "output_type": "error",
          "traceback": [
            "\u001b[1;31mДля выполнения ячеек с \"c:\\Users\\Вадим Максютов\\AppData\\Local\\Microsoft\\WindowsApps\\python3.11.exe\" требуется пакет ipykernel.\n",
            "\u001b[1;31mRun the following command to install 'ipykernel' into the Python environment. \n",
            "\u001b[1;31mCommand: '\"c:/Users/Вадим Максютов/AppData/Local/Microsoft/WindowsApps/python3.11.exe\" -m pip install ipykernel -U --user --force-reinstall'"
          ]
        }
      ],
      "source": [
        "# Задаем выборку зарплат\n",
        "salaries = [100, 80, 75, 77, 89, 33, 45, 25, 65, 17, 30, 24, 57, 55, 70, 75, 65, 84, 90, 150]\n",
        "\n",
        "# Расчет среднего арифметического\n",
        "mean = sum(salaries) / len(salaries)\n",
        "\n",
        "# Расчет среднего квадратичного отклонения\n",
        "std_dev = math.sqrt(sum((x - mean)**2 for x in salaries) / len(salaries))\n",
        "\n",
        "# Расчет смещенной оценки дисперсии\n",
        "variance_biased = sum((x - mean)**2 for x in salaries) / len(salaries)\n",
        "\n",
        "# Расчет несмещенной оценки дисперсии\n",
        "variance_unbiased = sum((x - mean)**2 for x in salaries) / (len(salaries) - 1)\n",
        "\n",
        "# Вывод результатов\n",
        "print(f\"Среднее арифметическое: {mean}\")\n",
        "print(f\"Среднее квадратичное отклонение: {std_dev}\")\n",
        "print(f\"Смещенная оценка дисперсии: {variance_biased}\")\n",
        "print(f\"Несмещенная оценка дисперсии: {variance_unbiased}\")\n"
      ]
    },
    {
      "cell_type": "code",
      "execution_count": 6,
      "metadata": {
        "trusted": true
      },
      "outputs": [],
      "source": [
        "#В первом ящике находится 8 мячей, из которых 5 - белые. Во втором ящике - 12 мячей, из которых 5 белых. \n",
        "#Из первого ящика вытаскивают случайным образом два мяча, из второго - 4. Какова вероятность того, что 3 мяча белые?"
      ]
    },
    {
      "cell_type": "code",
      "execution_count": 7,
      "metadata": {
        "trusted": true
      },
      "outputs": [
        {
          "ename": "<class 'NameError'>",
          "evalue": "name 'math' is not defined",
          "output_type": "error",
          "traceback": [
            "\u001b[0;31m---------------------------------------------------------------------------\u001b[0m",
            "\u001b[0;31mNameError\u001b[0m                                 Traceback (most recent call last)",
            "Cell \u001b[0;32mIn[7], line 2\u001b[0m\n\u001b[1;32m      1\u001b[0m \u001b[38;5;66;03m# Вычисляем количество сочетаний, в которых будет 0, 1 или 2 белых мяча в первом ящике\u001b[39;00m\n\u001b[0;32m----> 2\u001b[0m comb_0w_1w_2w_1 \u001b[38;5;241m=\u001b[39m \u001b[43mmath\u001b[49m\u001b[38;5;241m.\u001b[39mcomb(\u001b[38;5;241m3\u001b[39m, \u001b[38;5;241m0\u001b[39m) \u001b[38;5;241m*\u001b[39m math\u001b[38;5;241m.\u001b[39mcomb(\u001b[38;5;241m5\u001b[39m, \u001b[38;5;241m2\u001b[39m) \u001b[38;5;241m*\u001b[39m math\u001b[38;5;241m.\u001b[39mcomb(\u001b[38;5;241m3\u001b[39m, \u001b[38;5;241m2\u001b[39m) \u001b[38;5;241m*\u001b[39m math\u001b[38;5;241m.\u001b[39mcomb(\u001b[38;5;241m7\u001b[39m, \u001b[38;5;241m2\u001b[39m)\n\u001b[1;32m      3\u001b[0m comb_0w_1w_2w_2 \u001b[38;5;241m=\u001b[39m math\u001b[38;5;241m.\u001b[39mcomb(\u001b[38;5;241m3\u001b[39m, \u001b[38;5;241m1\u001b[39m) \u001b[38;5;241m*\u001b[39m math\u001b[38;5;241m.\u001b[39mcomb(\u001b[38;5;241m5\u001b[39m, \u001b[38;5;241m1\u001b[39m) \u001b[38;5;241m*\u001b[39m math\u001b[38;5;241m.\u001b[39mcomb(\u001b[38;5;241m3\u001b[39m, \u001b[38;5;241m1\u001b[39m) \u001b[38;5;241m*\u001b[39m math\u001b[38;5;241m.\u001b[39mcomb(\u001b[38;5;241m7\u001b[39m, \u001b[38;5;241m3\u001b[39m)\n\u001b[1;32m      4\u001b[0m comb_0w_1w_2w_3 \u001b[38;5;241m=\u001b[39m math\u001b[38;5;241m.\u001b[39mcomb(\u001b[38;5;241m3\u001b[39m, \u001b[38;5;241m2\u001b[39m) \u001b[38;5;241m*\u001b[39m math\u001b[38;5;241m.\u001b[39mcomb(\u001b[38;5;241m5\u001b[39m, \u001b[38;5;241m0\u001b[39m) \u001b[38;5;241m*\u001b[39m math\u001b[38;5;241m.\u001b[39mcomb(\u001b[38;5;241m3\u001b[39m, \u001b[38;5;241m0\u001b[39m) \u001b[38;5;241m*\u001b[39m math\u001b[38;5;241m.\u001b[39mcomb(\u001b[38;5;241m7\u001b[39m, \u001b[38;5;241m4\u001b[39m)\n",
            "\u001b[0;31mNameError\u001b[0m: name 'math' is not defined"
          ]
        }
      ],
      "source": [
        "# Вычисляем количество сочетаний, в которых будет 0, 1 или 2 белых мяча в первом ящике\n",
        "comb_0w_1w_2w_1 = math.comb(3, 0) * math.comb(5, 2) * math.comb(3, 2) * math.comb(7, 2)\n",
        "comb_0w_1w_2w_2 = math.comb(3, 1) * math.comb(5, 1) * math.comb(3, 1) * math.comb(7, 3)\n",
        "comb_0w_1w_2w_3 = math.comb(3, 2) * math.comb(5, 0) * math.comb(3, 0) * math.comb(7, 4)\n",
        "\n",
        "# Вычисляем количество сочетаний, в которых будет 1, 2 или 3 белых мяча во втором ящике\n",
        "comb_1w_2w_3w_1 = math.comb(3, 1) * math.comb(5, 1) * math.comb(3, 1) * math.comb(7, 2)\n",
        "comb_1w_2w_3w_2 = math.comb(3, 2) * math.comb(5, 0) * math.comb(3, 2) * math.comb(7, 2)\n",
        "comb_1w_2w_3w_3 = math.comb(3, 3) * math.comb(5, 0) * math.comb(3, 0) * math.comb(7, 4)\n",
        "\n",
        "# Вычисляем общее количество сочетаний мячей, которые можно извлечь из ящиков\n",
        "total_combinations = math.comb(8, 2) * math.comb(12, 4)\n",
        "\n",
        "# Вычисляем количество сочетаний, в которых будет ровно 3 белых мяча\n",
        "comb_3w = comb_0w_1w_2w_1 + comb_0w_1w_2w_2 + comb_0w_1w_2w_3 + comb_1w_2w_3w_1 + comb_1w_2w_3w_2 + comb_1w_2w_3w_3\n",
        "\n",
        "# Вычисляем вероятность того, что будет ровно 3 белых мяча\n",
        "p = comb_3w / total_combinations\n",
        "\n",
        "print(f\"Вероятность того, что при извлечении 2 мячей из первого ящика и 4 мячей из второго ящика будет ровно 3 белых мяча: {p:.4f}\")\n"
      ]
    },
    {
      "cell_type": "code",
      "execution_count": 8,
      "metadata": {
        "trusted": true
      },
      "outputs": [
        {
          "name": "stdout",
          "output_type": "stream",
          "text": [
            "Вероятность того, что выстрел произведен первым спортсменом: 0.391304347826087\n",
            "Вероятность того, что выстрел произведен вторым спортсменом: 0.3478260869565218\n",
            "Вероятность того, что выстрел произведен третьим спортсменом: 0.2608695652173913\n"
          ]
        }
      ],
      "source": [
        "#На соревновании по биатлону один из трех спортсменов стреляет и попадает в мишень. Вероятность попадания для первого спортсмена равна 0.9, для второго — 0.8, для третьего — 0.6.\n",
        "#Найти вероятность того, что выстрел произведен: a). первым спортсменом б). вторым спортсменом в). третьим спортсменом\n",
        "p_a1 = 1/3\n",
        "p_a2 = 1/3\n",
        "p_a3 = 1/3\n",
        "\n",
        "p_b_given_a1 = 0.9\n",
        "p_b_given_a2 = 0.8\n",
        "p_b_given_a3 = 0.6\n",
        "\n",
        "p_b = p_b_given_a1 * p_a1 + p_b_given_a2 * p_a2 + p_b_given_a3 * p_a3\n",
        "\n",
        "p_a1_given_b = p_b_given_a1 * p_a1 / p_b\n",
        "p_a2_given_b = p_b_given_a2 * p_a2 / p_b\n",
        "p_a3_given_b = p_b_given_a3 * p_a3 / p_b\n",
        "\n",
        "print(\"Вероятность того, что выстрел произведен первым спортсменом:\", p_a1_given_b)\n",
        "print(\"Вероятность того, что выстрел произведен вторым спортсменом:\", p_a2_given_b)\n",
        "print(\"Вероятность того, что выстрел произведен третьим спортсменом:\", p_a3_given_b)\n"
      ]
    },
    {
      "cell_type": "code",
      "execution_count": 9,
      "metadata": {
        "trusted": true
      },
      "outputs": [
        {
          "name": "stdout",
          "output_type": "stream",
          "text": [
            "Вероятность, что студент с факультета A: 0.24242424242424246\n",
            "Вероятность, что студент с факультета B: 0.21212121212121213\n",
            "Вероятность, что студент с факультета C: 0.5454545454545455\n"
          ]
        }
      ],
      "source": [
        "#В университет на факультеты A и B поступило равное количество студентов, а на факультет C студентов поступило столько же, сколько на A и B вместе. \n",
        "#Вероятность того, что студент факультета A сдаст первую сессию, равна 0.8. Для студента факультета B эта вероятность равна 0.7, а для студента факультета C - 0.9. \n",
        "#Студент сдал первую сессию. Какова вероятность, что он учится: a). на факультете A б). на факультете B в). на факультете C?\n",
        "p_a = 1/4 * 0.8\n",
        "p_b = 1/4 * 0.7\n",
        "p_c = 1/2 * 0.9\n",
        "\n",
        "p_passed = p_a + p_b + p_c\n",
        "\n",
        "p_a_passed = p_a / p_passed\n",
        "p_b_passed = p_b / p_passed\n",
        "p_c_passed = p_c / p_passed\n",
        "\n",
        "print(f\"Вероятность, что студент с факультета A: {p_a_passed}\")\n",
        "print(f\"Вероятность, что студент с факультета B: {p_b_passed}\")\n",
        "print(f\"Вероятность, что студент с факультета C: {p_c_passed}\")\n"
      ]
    },
    {
      "cell_type": "code",
      "execution_count": 10,
      "metadata": {
        "trusted": true
      },
      "outputs": [
        {
          "name": "stdout",
          "output_type": "stream",
          "text": [
            "Вероятность, что все детали выйдут из строя: 0.005000000000000001\n",
            "Вероятность, что выйдут из строя только две детали: 0.08000000000000002\n",
            "Вероятность, что выйдет из строя хотя бы одна деталь: 0.45999999999999996\n",
            "Вероятность, что выйдет из строя от одной до двух деталей: 0.45499999999999996\n"
          ]
        }
      ],
      "source": [
        "#Устройство состоит из трех деталей. Для первой детали вероятность выйти из строя в первый месяц равна 0.1, для второй - 0.2, для третьей - 0.25. \n",
        "#Какова вероятность того, что в первый месяц выйдут из строя: а). все детали б). только две детали в). хотя бы одна деталь г). от одной до двух деталей?\n",
        "p1 = 0.1\n",
        "p2 = 0.2\n",
        "p3 = 0.25\n",
        "\n",
        "# a) вероятность, что все детали выйдут из строя\n",
        "p_all = p1 * p2 * p3\n",
        "print(\"Вероятность, что все детали выйдут из строя:\", p_all)\n",
        "\n",
        "# б) вероятность, что выйдут из строя только две детали\n",
        "p_only_two = p1 * p2 * (1-p3) + p1 * (1-p2) * p3 + (1-p1) * p2 * p3\n",
        "print(\"Вероятность, что выйдут из строя только две детали:\", p_only_two)\n",
        "\n",
        "# в) вероятность, что выйдет из строя хотя бы одна деталь\n",
        "p_at_least_one = 1 - (1-p1) * (1-p2) * (1-p3)\n",
        "print(\"Вероятность, что выйдет из строя хотя бы одна деталь:\", p_at_least_one)\n",
        "\n",
        "# г) вероятность, что выйдет из строя от одной до двух деталей\n",
        "p_one_or_two = p_at_least_one - p_all\n",
        "print(\"Вероятность, что выйдет из строя от одной до двух деталей:\", p_one_or_two)\n"
      ]
    },
    {
      "cell_type": "code",
      "execution_count": null,
      "metadata": {},
      "outputs": [],
      "source": []
    }
  ],
  "metadata": {
    "kernelspec": {
      "display_name": "Python 3",
      "language": "python",
      "name": "python3"
    },
    "language_info": {
      "codemirror_mode": {
        "name": "python",
        "version": 3
      },
      "file_extension": ".py",
      "mimetype": "text/x-python",
      "name": "python",
      "nbconvert_exporter": "python",
      "pygments_lexer": "ipython3",
      "version": "3.11.2"
    }
  },
  "nbformat": 4,
  "nbformat_minor": 4
}
